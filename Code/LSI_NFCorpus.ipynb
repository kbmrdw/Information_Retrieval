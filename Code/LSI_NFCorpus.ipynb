{
  "nbformat": 4,
  "nbformat_minor": 0,
  "metadata": {
    "colab": {
      "provenance": [],
      "gpuType": "T4",
      "toc_visible": true
    },
    "kernelspec": {
      "name": "python3",
      "display_name": "Python 3"
    },
    "language_info": {
      "name": "python"
    },
    "accelerator": "GPU"
  },
  "cells": [
    {
      "cell_type": "code",
      "execution_count": null,
      "metadata": {
        "id": "5NtzDg7cq0d_"
      },
      "outputs": [],
      "source": [
        "import nltk\n",
        "import enum\n",
        "from nltk import sent_tokenize\n",
        "from nltk.tokenize import word_tokenize\n",
        "from nltk.probability import FreqDist\n",
        "from nltk.corpus import stopwords\n",
        "from nltk.stem import PorterStemmer\n",
        "from nltk.stem import WordNetLemmatizer\n",
        "from os import listdir\n",
        "from os.path import isfile, join\n",
        "import numpy as np\n",
        "from numpy.linalg import svd, norm\n",
        "from numpy import dot\n",
        "import os\n",
        "import pickle\n",
        "import math\n",
        "import re\n",
        "import pandas as pd\n",
        "import time"
      ]
    },
    {
      "cell_type": "code",
      "source": [
        "nltk.download('stopwords')\n",
        "nltk.download('wordnet')\n",
        "nltk.download('punkt')\n",
        "nltk.download('omw-1.4')"
      ],
      "metadata": {
        "colab": {
          "base_uri": "https://localhost:8080/"
        },
        "id": "PzldYDHkypGX",
        "outputId": "da5d108b-f8e1-4490-ef1f-f56388741a58"
      },
      "execution_count": null,
      "outputs": [
        {
          "output_type": "stream",
          "name": "stderr",
          "text": [
            "[nltk_data] Downloading package stopwords to /root/nltk_data...\n",
            "[nltk_data]   Unzipping corpora/stopwords.zip.\n",
            "[nltk_data] Downloading package wordnet to /root/nltk_data...\n",
            "[nltk_data] Downloading package punkt to /root/nltk_data...\n",
            "[nltk_data]   Unzipping tokenizers/punkt.zip.\n",
            "[nltk_data] Downloading package omw-1.4 to /root/nltk_data...\n"
          ]
        },
        {
          "output_type": "execute_result",
          "data": {
            "text/plain": [
              "True"
            ]
          },
          "metadata": {},
          "execution_count": 2
        }
      ]
    },
    {
      "cell_type": "code",
      "source": [
        "lemmatizer = WordNetLemmatizer()\n",
        "stop_words = nltk.corpus.stopwords.words('english')"
      ],
      "metadata": {
        "id": "7nYgL5KEyvXU"
      },
      "execution_count": null,
      "outputs": []
    },
    {
      "cell_type": "code",
      "source": [
        "from google.colab import drive\n",
        "drive.mount('/content/drive')"
      ],
      "metadata": {
        "colab": {
          "base_uri": "https://localhost:8080/"
        },
        "id": "1yiY3N-1rTQA",
        "outputId": "90c09242-117b-48c2-ae8e-538f58202bc5"
      },
      "execution_count": null,
      "outputs": [
        {
          "output_type": "stream",
          "name": "stdout",
          "text": [
            "Mounted at /content/drive\n"
          ]
        }
      ]
    },
    {
      "cell_type": "code",
      "source": [
        "%cd /content/drive/MyDrive/NFCorpus"
      ],
      "metadata": {
        "colab": {
          "base_uri": "https://localhost:8080/"
        },
        "id": "kaDa0qmQrjqE",
        "outputId": "b388a678-aba6-4a1a-d004-660d55e459a9"
      },
      "execution_count": null,
      "outputs": [
        {
          "output_type": "stream",
          "name": "stdout",
          "text": [
            "/content/drive/MyDrive/NFCorpus\n"
          ]
        }
      ]
    },
    {
      "cell_type": "code",
      "source": [
        "!ls"
      ],
      "metadata": {
        "colab": {
          "base_uri": "https://localhost:8080/"
        },
        "id": "EsyitsfNr0p6",
        "outputId": "7b985930-e48f-41ec-b3ae-0963372587bb"
      },
      "execution_count": null,
      "outputs": [
        {
          "output_type": "stream",
          "name": "stdout",
          "text": [
            "docs\t NF_qrel     queries\t      test.all.queries\n",
            "NF_docs  NF_queries  test.2-1-0.qrel  test.docs\n"
          ]
        }
      ]
    },
    {
      "cell_type": "markdown",
      "source": [
        "# Preprocess"
      ],
      "metadata": {
        "id": "hqhD933u5kdZ"
      }
    },
    {
      "cell_type": "markdown",
      "source": [
        "## Docs"
      ],
      "metadata": {
        "id": "_4SmpKSMCs6c"
      }
    },
    {
      "cell_type": "code",
      "source": [
        "with open('./test.docs', 'r') as f:\n",
        "    lines = f.readlines()\n",
        "    for line in lines:\n",
        "        id, doc = line.split('\\t')\n",
        "        id = id.split(\"-\")[-1]\n",
        "        f1 = open('./NF_docs/' + id + '.txt', 'w')\n",
        "        f1.write(doc)\n",
        "        f1.close()\n",
        "    f.close()"
      ],
      "metadata": {
        "id": "NoI1unD5t0_J"
      },
      "execution_count": null,
      "outputs": []
    },
    {
      "cell_type": "code",
      "source": [
        "print('Số tài liệu:', len(os.listdir('./NF_docs')))"
      ],
      "metadata": {
        "colab": {
          "base_uri": "https://localhost:8080/"
        },
        "id": "lxLjWWYx0Nnn",
        "outputId": "c7433073-d2ba-48a7-ce9d-39171e414bfd"
      },
      "execution_count": null,
      "outputs": [
        {
          "output_type": "stream",
          "name": "stdout",
          "text": [
            "Số tài liệu: 3162\n"
          ]
        }
      ]
    },
    {
      "cell_type": "markdown",
      "source": [
        "## Queries"
      ],
      "metadata": {
        "id": "by-TqUmRCucE"
      }
    },
    {
      "cell_type": "code",
      "source": [
        "f = open('./test.all.queries', 'r', encoding='utf-8')\n",
        "lines = f.readlines()\n",
        "f.close()\n",
        "for line in lines:\n",
        "    if line == '':\n",
        "        continue\n",
        "    qry_id, qry = line.split('\\t')\n",
        "    qry_id = qry_id.split(\"-\")[-1]\n",
        "    f = open('./NF_queries/' + qry_id + '.txt', 'w', encoding='utf-8')\n",
        "    f.write(qry)\n",
        "    f.close()"
      ],
      "metadata": {
        "id": "ZvJicItECwmo"
      },
      "execution_count": null,
      "outputs": []
    },
    {
      "cell_type": "code",
      "source": [
        "print('Số truy vấn:', len(os.listdir('./NF_queries')))"
      ],
      "metadata": {
        "colab": {
          "base_uri": "https://localhost:8080/"
        },
        "id": "8l94fGIXEY9W",
        "outputId": "40a88aac-6d14-4c11-807a-9fd8464c97b2"
      },
      "execution_count": null,
      "outputs": [
        {
          "output_type": "stream",
          "name": "stdout",
          "text": [
            "Số truy vấn: 325\n"
          ]
        }
      ]
    },
    {
      "cell_type": "markdown",
      "source": [
        "## Qrels"
      ],
      "metadata": {
        "id": "sjdFABneEp63"
      }
    },
    {
      "cell_type": "code",
      "source": [
        "f = open('./test.2-1-0.qrel', 'r')\n",
        "lines = f.readlines()\n",
        "f.close()\n",
        "\n",
        "qrel_data = {}\n",
        "\n",
        "for line in lines:\n",
        "    qry_id, _, doc_id, _ = line.split()\n",
        "\n",
        "    qry_id = qry_id.split(\"-\")[-1]  # Extract the numeric part of PLAIN\n",
        "    doc_id = doc_id.split(\"-\")[-1]  # Extract the numeric part of MED\n",
        "\n",
        "    if qry_id in qrel_data:\n",
        "        qrel_data[qry_id].append(doc_id)\n",
        "    else:\n",
        "        qrel_data[qry_id] = [doc_id]\n",
        "\n",
        "for qry_id, doc_id in qrel_data.items():\n",
        "    f = open('./NF_qrel/' + qry_id + '.txt', 'w', encoding='utf-8')\n",
        "    f.write(' '.join(doc_id))"
      ],
      "metadata": {
        "id": "9XMDdWtZErHp"
      },
      "execution_count": null,
      "outputs": []
    },
    {
      "cell_type": "code",
      "source": [
        "print('Số kết quả cho truy vấn:', len(os.listdir('./NF_qrel')))"
      ],
      "metadata": {
        "colab": {
          "base_uri": "https://localhost:8080/"
        },
        "id": "MqnJKuOYExAK",
        "outputId": "52136204-8410-4812-fec5-ce1ab6ac627c"
      },
      "execution_count": null,
      "outputs": [
        {
          "output_type": "stream",
          "name": "stdout",
          "text": [
            "Số kết quả cho truy vấn: 323\n"
          ]
        }
      ]
    },
    {
      "cell_type": "markdown",
      "source": [
        "# Indexing"
      ],
      "metadata": {
        "id": "HZyREH6Payi_"
      }
    },
    {
      "cell_type": "code",
      "source": [
        "# tiền xử lý text\n",
        "def preprocess_text(text):\n",
        "    processed_text = text.lower()\n",
        "    processed_text = processed_text.replace(\"’\", \"'\")\n",
        "    processed_text = processed_text.replace(\"“\", '\"')\n",
        "    processed_text = processed_text.replace(\"”\", '\"')\n",
        "    # loại bỏ các ký tự đặc biệt và chữ số\n",
        "    # chỉ giữ lại các kí tự alphabet\n",
        "    non_words = re.compile(r\"[^A-Za-z']+\")\n",
        "    processed_text = re.sub(non_words, ' ', processed_text)\n",
        "    return processed_text\n",
        "\n",
        "# input một text (một câu hoặc một đoạn văn bản)\n",
        "# output list các từ (term) trong văn bản sau khi process\n",
        "def get_words_from_text(text):\n",
        "    # loại bỏ chữ số và các ký tự đặc biệt trong text\n",
        "    processed_text = preprocess_text(text)\n",
        "    # loại bỏ stopword\n",
        "    filtered_words = [word for word in processed_text.split() if word not in stopwords.words('english')]\n",
        "    processed_words = []\n",
        "    for i in range(len(filtered_words)):\n",
        "        # thực hiện lemmatize\n",
        "        # ex: am, is, are -> be\n",
        "        processed_words.append(lemmatizer.lemmatize(filtered_words[i]))\n",
        "    return processed_words\n",
        "\n",
        "# đọc file và trả về nội dung của file dưới dạng chuỗi\n",
        "def get_text_from_file(filename):\n",
        "    with open(filename, encoding='utf-8', mode='r') as f:\n",
        "        text = f.read()\n",
        "    return text\n",
        "\n",
        "# Extracts the numeric part from a filename in the format 'MED-10.txt'.\n",
        "def extract_numeric_part(filename):\n",
        "    name, ext = os.path.splitext(filename)\n",
        "    return int(name.split('-')[-1])\n",
        "\n",
        "# lập chỉ mục\n",
        "def indexing(docs_path):\n",
        "    # terms lưu danh sách các term\n",
        "    # index lưu chỉ số của doc\n",
        "    # Vd: terms = ['hello', 'bye']\n",
        "    #     index = [[(1,5), (2,10)], [(3, 1)]] -> posting list\n",
        "    # -> 'hello' xuất hiện trong doc 1 5 lần, xuất hiện trong doc 2 10 lần\n",
        "    terms = []\n",
        "    index = []\n",
        "    norm_list = []\n",
        "    N = 0\n",
        "\n",
        "    # Indexing postings\n",
        "    # đếm term trên từng doc theo thứ tự chỉ số tăng dần\n",
        "    for doc_file in sorted(os.listdir(docs_path), key=lambda x: int(os.path.splitext(x)[0])): # tách thứ tự của doc từ tên doc\n",
        "        filename = os.path.join(docs_path, doc_file)\n",
        "        N += 1\n",
        "\n",
        "        # đọc text từ file\n",
        "        text = get_text_from_file(filename)\n",
        "        # words lưu các term sau khi process (bỏ stopword, ký tự đặc biệt, lemmatize,...)\n",
        "        words = get_words_from_text(text)\n",
        "\n",
        "        for word in words:\n",
        "            # nếu một term chưa được ghi lại trong list term thì thêm term đó vào list\n",
        "            if word not in terms:\n",
        "                terms.append(word)\n",
        "                index.append([(N, 1)])\n",
        "            # term đã được ghi lại trước đó\n",
        "            else:\n",
        "                #  lấy ra index của term trong list terms\n",
        "                temp_index = terms.index(word)\n",
        "\n",
        "                # index[temp_index] -> posting list của term ở index temp_index\n",
        "                # i[0] -> số thứ tự của doc\n",
        "                # i[1] -> term frequency\n",
        "                # nếu doc thứ N chưa được ghi lại lần nào thì thêm doc N vào posting list với term frequency là 1\n",
        "                if N not in [i[0] for i in index[temp_index]]:\n",
        "                    index[temp_index].append((N, 1))\n",
        "                    continue\n",
        "                # nếu N đã được ghi lại thì tăng term frequency của N thêm 1\n",
        "                # lặp qua từng posting trong posting list để tìm doc N\n",
        "                for i in range(len(index[temp_index])):\n",
        "                    if index[temp_index][i][0] == N:\n",
        "                        index[temp_index][i] = (N, index[temp_index][i][1] + 1)\n",
        "                        break\n",
        "\n",
        "    # Calculate weights\n",
        "    # thay vì lưu tf (term frequency) trong posting list thì lưu tf * idf (inversed document frequency)\n",
        "    for i in range(len(index)):\n",
        "        for j in range(len(index[i])):\n",
        "            # temp -> (document index, term frequency)\n",
        "            temp = list(index[i][j])\n",
        "            # len(index[i]) -> document frequency của term thứ i\n",
        "            # lưu lại weight mới vào temp[1]\n",
        "            temp[1] = index[i][j][1] * math.log(N/len(index[i])) # Formula: TF * IDF (IDF = log(N / ndoc(t)))\n",
        "            # chuyển kiểu dữ liệu trở lại thành tuple\n",
        "            index[i][j] = tuple(temp)\n",
        "\n",
        "    # Normalization\n",
        "    # norm list lưu độ dài của các vector document\n",
        "    for i in range(N):\n",
        "        norm = 0\n",
        "        for j in range(len(index)):\n",
        "            # temp lưu weight của các term trong doc\n",
        "            temp = [item for item in index[j] if item[0] == i+1]\n",
        "            # tính norm của document vector\n",
        "            # norm thực chất là độ dài cảu document vector\n",
        "            if len(temp) != 0:\n",
        "                norm += math.pow(temp[0][1], 2)\n",
        "        norm_list.append(math.sqrt(norm))\n",
        "    # normalize documnet vector\n",
        "    for i in range(len(index)):\n",
        "        for j in range(len(index[i])):\n",
        "            temp = list(index[i][j])\n",
        "            temp[1] = index[i][j][1] / norm_list[index[i][j][0]-1]\n",
        "            index[i][j] = tuple(temp)\n",
        "\n",
        "    return terms, index"
      ],
      "metadata": {
        "id": "KX0BmeJlyx10"
      },
      "execution_count": null,
      "outputs": []
    },
    {
      "cell_type": "code",
      "source": [
        "terms, index = indexing(r'./NF_docs') # lập chỉ mục"
      ],
      "metadata": {
        "id": "DGTkG7oAyzY1"
      },
      "execution_count": null,
      "outputs": []
    },
    {
      "cell_type": "code",
      "source": [
        "print(len(terms))"
      ],
      "metadata": {
        "colab": {
          "base_uri": "https://localhost:8080/"
        },
        "id": "BVC-lq-ky4rU",
        "outputId": "7dc71dff-3d61-4e2f-a3eb-df46d407a986"
      },
      "execution_count": null,
      "outputs": [
        {
          "output_type": "stream",
          "name": "stdout",
          "text": [
            "19917\n"
          ]
        }
      ]
    },
    {
      "cell_type": "code",
      "source": [
        "print(index[:2])"
      ],
      "metadata": {
        "colab": {
          "base_uri": "https://localhost:8080/"
        },
        "id": "zGRAeSch0d81",
        "outputId": "9e1f7e02-b083-4b34-9f23-db040320d0c5"
      },
      "execution_count": null,
      "outputs": [
        {
          "output_type": "stream",
          "name": "stdout",
          "text": [
            "[[(1, 0.7432154772707495), (2, 0.43222075721741604), (156, 0.3948777963376582), (168, 0.1038101393125815), (211, 0.13114611486374514), (230, 0.07239944654250258), (342, 0.07810607236413591), (391, 0.2239029323406329), (454, 0.075082731869931), (528, 0.051444047769329246), (731, 0.07845017777160117), (741, 0.17049776757287766), (1163, 0.3672944330869397), (1164, 0.5881183177945235), (1166, 0.581623142936996), (1167, 0.07845017777160117), (1230, 0.06667193062755372), (1623, 0.09357912021531457), (1745, 0.06941465456859819), (2597, 0.5635597838013672), (2806, 0.12144752093814813), (2808, 0.4055401149165606), (2809, 0.5276717644394566), (2810, 0.5173092713664965)], [(1, 0.25718471124221415), (2, 0.48609301827202184), (11, 0.029713308709335456), (63, 0.15804675935179596), (65, 0.032136858976344405), (75, 0.025956912068357447), (122, 0.0876391213397533), (132, 0.03616934546300445), (144, 0.03324163750026399), (146, 0.0301575080726686), (185, 0.2566135795885925), (186, 0.0395369486999491), (292, 0.04686276188595736), (296, 0.05745716487938822), (392, 0.0578802363274294), (437, 0.21414442241544565), (462, 0.247547699387033), (486, 0.037685321168910026), (503, 0.06237223575490452), (596, 0.07716720491613575), (597, 0.05423319447150989), (598, 0.0458800052806416), (599, 0.12269208962857654), (600, 0.07211587588789803), (601, 0.043101587895770524), (610, 0.09835043902447184), (636, 0.08904650746322615), (664, 0.024675096813184267), (687, 0.33684938758171434), (688, 0.34016919717452937), (689, 0.01901873594909537), (691, 0.391003778134628), (694, 0.02144497363992797), (735, 0.03265411438639805), (782, 0.06772387218520319), (853, 0.024036394405412737), (902, 0.18872484844752305), (903, 0.1887329761491208), (904, 0.11650501870309232), (905, 0.42468760659270205), (908, 0.09653323977595087), (920, 0.24325792859078277), (921, 0.0395369486999491), (933, 0.15474165462275433), (934, 0.1902198453017938), (944, 0.11433241973377288), (945, 0.14009500594587376), (955, 0.03562360264859034), (1025, 0.2767080706552278), (1029, 0.042255953877301876), (1032, 0.4642801153500537), (1113, 0.01440522833622943), (1152, 0.03516615328522291), (1154, 0.42765738109325996), (1159, 0.31674834033730337), (1160, 0.4943072979272212), (1161, 0.22031374639417112), (1162, 0.026778485221796735), (1163, 0.047662411980384414), (1164, 0.3052715753990006), (1165, 0.08360728650389387), (1166, 0.10978187567842941), (1168, 0.21031549131171534), (1169, 0.25305995702010947), (1170, 0.1858169490586001), (1171, 0.5238154546987338), (1172, 0.23328231574108937), (1173, 0.13349517219749807), (1174, 0.027880017292184932), (1220, 0.028701951515324873), (1237, 0.021292728864635055), (1241, 0.14477877611786757), (1252, 0.035820909443474484), (1283, 0.047540100583869), (1292, 0.10392432278360128), (1293, 0.036439805572393166), (1301, 0.07701649030023823), (1325, 0.07952793234010638), (1340, 0.03437387856577574), (1358, 0.07816134838363571), (1379, 0.2603159519763519), (1383, 0.18390126829023268), (1414, 0.03862898814399291), (1424, 0.04338955733740511), (1463, 0.034353924556394876), (1464, 0.12694354488893272), (1481, 0.09504214248145496), (1551, 0.04801564739770662), (1554, 0.04746616345850112), (1556, 0.06339844359943556), (1569, 0.062220521581881266), (1573, 0.3548922149886681), (1574, 0.3362473801315216), (1575, 0.17765092330537013), (1576, 0.07774688883183982), (1578, 0.09890999477859291), (1582, 0.3543687381884607), (1585, 0.3270230741504745), (1619, 0.28271773731398886), (1624, 0.24648329141799613), (1646, 0.2135243596089274), (1647, 0.12115419193726684), (1668, 0.021636362543612963), (1678, 0.09089715763081328), (1686, 0.04109155756601994), (1724, 0.08342172027196383), (1756, 0.22438202389129447), (1760, 0.030164070553101132), (1761, 0.23632655715376624), (1794, 0.04288315105676144), (1849, 0.05138400083874765), (1850, 0.47949577596468346), (1854, 0.041982136890195094), (1873, 0.1930292839619937), (1957, 0.020976085426709378), (1962, 0.31631938725729414), (1963, 0.2183026175188313), (1964, 0.24141367534890304), (1965, 0.033255936818285724), (1966, 0.05107037123086766), (1967, 0.09727135570454452), (1969, 0.04315760823414756), (2009, 0.024728018456036352), (2020, 0.2836615562974514), (2023, 0.07000325433643323), (2024, 0.3184820049460854), (2025, 0.18002758398167487), (2026, 0.06580312550764861), (2048, 0.29581102071137394), (2049, 0.03454600087399284), (2052, 0.14026440362182446), (2053, 0.02394317039080576), (2054, 0.1596328630715685), (2056, 0.38593314658834366), (2057, 0.1608169093106871), (2058, 0.12370394923597912), (2075, 0.32546055178948274), (2076, 0.4335054600586597), (2077, 0.18563021102880803), (2078, 0.32546055178948274), (2079, 0.10399017686625048), (2080, 0.2870873639585726), (2081, 0.18563021102880803), (2083, 0.07699595739565092), (2084, 0.35056020168939955), (2085, 0.35286920970827546), (2088, 0.35648002675863955), (2089, 0.1624863643638548), (2091, 0.02841006398834992), (2092, 0.14603462238517592), (2093, 0.09954907525957278), (2094, 0.26135692034377644), (2095, 0.2517885173134088), (2096, 0.18436264707316719), (2097, 0.4041684525164186), (2098, 0.28436034268464055), (2099, 0.37965853335497557), (2108, 0.03139987396646141), (2119, 0.022572794541560155), (2121, 0.02536980059464775), (2170, 0.0997973850760287), (2233, 0.12979766230925285), (2234, 0.4624125296255252), (2237, 0.07042823050376554), (2238, 0.20444272087498214), (2242, 0.035578918864442706), (2243, 0.18455180492691692), (2244, 0.044738357596442645), (2245, 0.04256290696431398), (2246, 0.14896163160243253), (2247, 0.05027394430563931), (2253, 0.06418846279731882), (2258, 0.1921111260250556), (2259, 0.04823618972207998), (2272, 0.3835370412402601), (2308, 0.1045530819981489), (2310, 0.316026025881549), (2314, 0.09792214681090013), (2317, 0.11754935823780106), (2318, 0.053136705798961945), (2330, 0.13203721741130695), (2343, 0.09038025006985566), (2348, 0.048335924214894375), (2349, 0.02808530431542933), (2353, 0.24857302345453014), (2356, 0.16154079969707108), (2458, 0.14719558794470564), (2479, 0.07682178874137226), (2512, 0.3594896550673078), (2515, 0.4504471100105391), (2516, 0.05798113329060734), (2517, 0.08021820770667477), (2523, 0.20683652606320432), (2534, 0.032765811773061045), (2539, 0.04605264887170732), (2576, 0.04223631763715847), (2580, 0.04096306370502378), (2585, 0.03322457823846154), (2613, 0.023359328623222847), (2630, 0.02664528293550023), (2655, 0.18872484844752305), (2656, 0.05891163737431784), (2657, 0.41992681131983933), (2660, 0.17476136234122794), (2661, 0.05043493092916964), (2662, 0.02767000294029299), (2663, 0.13793200738277492), (2664, 0.4348801337414138), (2665, 0.0936865801417973), (2672, 0.10061548379406972), (2686, 0.0367798611753638), (2692, 0.07639933237288178), (2694, 0.22315072734145208), (2695, 0.13463578422928982), (2696, 0.37833921420981415), (2697, 0.09963867676009407), (2717, 0.15585460674448648), (2731, 0.056674994696527765), (2740, 0.10475935643035858), (2741, 0.11059943305931687), (2744, 0.036646657610553184), (2747, 0.24494994612297225), (2763, 0.03672916905373496), (2768, 0.22957431181597532), (2769, 0.26349340419977607), (2770, 0.31477763234027806), (2852, 0.02824080051484713), (2869, 0.031717466435050544), (2883, 0.09694448794104034), (2896, 0.10300899788912464), (2905, 0.03239163875346452), (2948, 0.14274861175551662), (2962, 0.02651110215645674), (2975, 0.093490964601534), (2987, 0.08690828670436018), (3000, 0.1481594629783356), (3011, 0.032952045259289166), (3016, 0.16348098070948155), (3017, 0.18725842994491693), (3022, 0.14659717694346122), (3040, 0.3202984333525842), (3043, 0.1680701857094401), (3045, 0.36231052543866604), (3046, 0.2414484975272075), (3059, 0.1786121778615342), (3060, 0.032634958376079735), (3097, 0.3395933716893472), (3104, 0.0384790943483382), (3105, 0.24937354905885853), (3107, 0.12133809838279637), (3154, 0.07328832549505711)]]\n"
          ]
        }
      ]
    },
    {
      "cell_type": "markdown",
      "source": [
        "# Term-Document Matrix"
      ],
      "metadata": {
        "id": "n6XGnT6Da3Rg"
      }
    },
    {
      "cell_type": "code",
      "source": [
        "def tokenizeFile(fld):\n",
        "    # fld là đường link đến một folder\n",
        "\n",
        "    dic = {} # lưu tên file\n",
        "    file = {} # lưu số lượng mỗi term trong doc\n",
        "    i = 0\n",
        "    # loop qua từng file trong folder đó\n",
        "    for f in listdir(fld):\n",
        "        # f là tên của file\n",
        "        # fname là đường link dẫn đến file f\n",
        "        fname = join(fld, f)\n",
        "        if isfile(fname):\n",
        "            dic[i] = f\n",
        "            r = open(fname, 'rt', encoding='utf-8')\n",
        "            terms = {}\n",
        "            for s in r:\n",
        "                # sents lưu danh sách các câu trong file\n",
        "                sents = sent_tokenize(s.strip())\n",
        "                for sent in sents:\n",
        "\n",
        "                    # lưu danh sách các từ trong một câu\n",
        "                    words = word_tokenize(sent)\n",
        "\n",
        "                    for word in words:\n",
        "                        # loại bỏ chữ số\n",
        "                        if not word.isalnum():\n",
        "                            continue\n",
        "                        # loại bỏ các từ trong danh sách stop words\n",
        "                        if word in stop_words:\n",
        "                            continue\n",
        "                        # lemmatize\n",
        "                        word = lemmatizer.lemmatize(word)\n",
        "                        # đếm số lượng term trong doc\n",
        "                        if terms.get(word) == None:\n",
        "                            terms[word] = 1\n",
        "                        else:\n",
        "                            terms[word] += 1\n",
        "            # lưu số lượng của mỗi term trong doc\n",
        "            file[i] = terms\n",
        "            i += 1\n",
        "    return dic, file"
      ],
      "metadata": {
        "id": "HhYUE23s0f09"
      },
      "execution_count": null,
      "outputs": []
    },
    {
      "cell_type": "code",
      "source": [
        "# hàm trả về n term xuất hiện nhiều nhất trong collection\n",
        "def selectTerms(files, n):\n",
        "    # đếm tổng số term trên toàn collection\n",
        "    terms = {}\n",
        "    for ind in files:\n",
        "        file = files[ind]\n",
        "        for term in file:\n",
        "            if terms.get(term) == None:\n",
        "                terms[term] = file[term]\n",
        "            else:\n",
        "                terms[term] += file[term]\n",
        "\n",
        "    # sắp xếp term theo độ phổ biến của term (độ phổ biến giảm dần) - ý là term nào nhiều hơn thì xếp trước\n",
        "    sortterms = sorted(terms.items(), key = lambda item: item[1], reverse=True)\n",
        "    # lấy n term có độ phổ biến lớn nhất\n",
        "    sortterms = sortterms[:n]\n",
        "    # res chỉ chứa các term phổ biến trong khi sortterms có chứa cả số lần xuất hiện của term trong collection\n",
        "    res = [w for w, i in sortterms]\n",
        "    return res"
      ],
      "metadata": {
        "id": "cKb9x3MM0iKk"
      },
      "execution_count": null,
      "outputs": []
    },
    {
      "cell_type": "code",
      "source": [
        "# tạo ma trận term-document\n",
        "def toMatrix(files, terms):\n",
        "    M = []\n",
        "    n = len(files)\n",
        "    for i in range(len(terms)):\n",
        "        row = [0] * n\n",
        "        M.append(row)\n",
        "    for c in files:\n",
        "        for term in files[c]:\n",
        "            try:\n",
        "                r = terms.index(term)\n",
        "                M[r][c] += files[c][term]\n",
        "            except:\n",
        "                continue\n",
        "    return M"
      ],
      "metadata": {
        "id": "E7gdz9050nxk"
      },
      "execution_count": null,
      "outputs": []
    },
    {
      "cell_type": "markdown",
      "source": [
        "# LSI"
      ],
      "metadata": {
        "id": "4BZxfylna7hn"
      }
    },
    {
      "cell_type": "code",
      "source": [
        "def lsi(S, Sig, Ut, dim):\n",
        "    # chỉ lấy dim singular value lớn nhất\n",
        "    Z = np.zeros((len(S), len(Ut)))\n",
        "    for i, value in enumerate(Sig):\n",
        "      Z[i][i] = value\n",
        "    Z = Z[:dim, :dim]\n",
        "    S = S[:,:dim]\n",
        "    Ut = Ut[:dim,:]\n",
        "\n",
        "    # D là ma trận Ut sau khi giảm còn dim chiều\n",
        "    D = np.matmul(Z, Ut)\n",
        "    # mỗi hàng trong D là vector đại diện cho một document\n",
        "    D = np.transpose(D)\n",
        "\n",
        "    return D, Z, S"
      ],
      "metadata": {
        "id": "oFOIvUuf0qVt"
      },
      "execution_count": null,
      "outputs": []
    },
    {
      "cell_type": "code",
      "source": [
        "def indexBoolean(fld, filedic):\n",
        "    # filedic là một dictionary với key là số thứ tự của file, value là tên file\n",
        "    ind = {}\n",
        "    for i, f in filedic.items():\n",
        "        fname = join(fld, f)\n",
        "        if isfile(fname):\n",
        "            r = open(fname, 'rt', encoding='utf-8')\n",
        "            # loop qua từng dòng trong file\n",
        "            for s in r:\n",
        "                # tách riêng từ câu\n",
        "                sents = sent_tokenize(s.strip())\n",
        "                for sent in sents:\n",
        "                    # tách riêng từng từ\n",
        "                    words = word_tokenize(sent)\n",
        "                    for word in words:\n",
        "                        # preprocess các từ để được term\n",
        "                        if not word.isalnum():\n",
        "                            continue\n",
        "                        if word in stop_words:\n",
        "                            continue\n",
        "\n",
        "                        word = lemmatizer.lemmatize(word)\n",
        "\n",
        "                        # lập chỉ mục ngược\n",
        "                        if ind.get(word) == None:\n",
        "                            ind[word] = [i]\n",
        "                        else:\n",
        "                            ind[word].append(i)\n",
        "            r.close()\n",
        "    return ind"
      ],
      "metadata": {
        "id": "qmz3uu3r0urm"
      },
      "execution_count": null,
      "outputs": []
    },
    {
      "cell_type": "code",
      "source": [
        "def searchBoolean(ind, qry): # hàm trả về các document chứa các term xuất hiện trong query\n",
        "    ret = []\n",
        "    terms = []\n",
        "\n",
        "    # xử lý query tương tự như xử lý document\n",
        "    words = word_tokenize(qry)\n",
        "    for word in words:\n",
        "        if not word.isalnum():\n",
        "            continue\n",
        "        if word in stop_words:\n",
        "            continue\n",
        "\n",
        "        word = lemmatizer.lemmatize(word)\n",
        "        terms.append(word)\n",
        "\n",
        "    return terms\n",
        "\n",
        "\n",
        "def reranking(D, terms, qry, Ut, Z, terms_ind_dict):\n",
        "    q = None\n",
        "    # lấy ra từ ma trận K các vector của các term xuất hiện trong query\n",
        "    # q là tổng của các vector đó\n",
        "    q = np.zeros(len(terms))\n",
        "    for term in qry:\n",
        "        if term in terms:\n",
        "            i = terms_ind_dict[term]\n",
        "            q[i] += 1\n",
        "    q = np.linalg.inv(Z).dot(Ut.T).dot(q)\n",
        "\n",
        "    dlist = {}\n",
        "\n",
        "    similarity = np.dot(D, q.T) / norm(D, axis=1) / norm(q)\n",
        "    dlist = pd.DataFrame(similarity, index=range(3162), columns=None).sort_values(by=0, ascending=False)\n",
        "\n",
        "    res = dlist.index\n",
        "    return list(res)\n",
        "\n",
        "def get_text_from_file(filename):\n",
        "    with open(filename, encoding='UTF-8', mode='r') as f:\n",
        "        text = f.read()\n",
        "    return text\n",
        "\n",
        "def calculate_precision_recall(input_query_path, input_query_res_file, D, Ut, Z, terms_inx_dict):\n",
        "    precision_list = []\n",
        "    recall_list = []\n",
        "\n",
        "    res_gold_list = {}\n",
        "    for res_file in os.listdir(input_query_res_file):\n",
        "        filename = os.path.join(input_query_res_file, res_file)\n",
        "        # Tách kết quả truy xuất từ file có sẵn\n",
        "        res_gold_list[res_file] = set(get_text_from_file(filename=filename).split())\n",
        "\n",
        "    res_only_list = {}\n",
        "    for query_file in os.listdir(input_query_path):\n",
        "        filename = os.path.join(input_query_path, query_file)\n",
        "        qry = searchBoolean(index, get_text_from_file(filename=filename))\n",
        "        # Truy xuất kết quả theo query\n",
        "        res = reranking(D, terms, qry, Ut, Z, terms_inx_dict)\n",
        "        for idx, i in enumerate(res):\n",
        "            # Tách số thứ tự từ tên file\n",
        "            res[idx] = dic[res[idx]][:-4]\n",
        "        # Kết quả trả về của từng query\n",
        "        res_only_list[query_file] = set(res)\n",
        "\n",
        "    for idx, i in enumerate(res_only_list):\n",
        "        try:\n",
        "          print(len(res_only_list[i]))\n",
        "          # Tính TP, FP, FN cho mỗi query\n",
        "          true_positives = res_only_list[i].intersection(res_gold_list[i])\n",
        "          false_positives = res_only_list[i].difference(res_gold_list[i])\n",
        "          false_negatives = res_gold_list[i].difference(res_only_list[i])\n",
        "          print('tp: ', true_positives)\n",
        "          print('fp: ', false_positives)\n",
        "          print('fn: ', false_negatives)\n",
        "\n",
        "          # Tính Precision và Recall cho mỗi query\n",
        "          precision = len(true_positives) / (len(true_positives) + len(false_positives))\n",
        "          recall = len(true_positives) / (len(true_positives) + len(false_negatives))\n",
        "\n",
        "          precision_list.append(precision)\n",
        "          recall_list.append(recall)\n",
        "        except:\n",
        "          pass\n",
        "\n",
        "    return precision_list, recall_list\n",
        "\n",
        "\n",
        "def calculate_AP(res_only, res_gold):\n",
        "    # AP (average precision) cho một query\n",
        "    # AP chỉ được tính tại những điểm retrive được relevant document\n",
        "    precision = 0   # đây là biến đếm, không precision thực sự\n",
        "    precision_list = []\n",
        "    recall_list = []\n",
        "\n",
        "    for idx, i in enumerate(res_only):\n",
        "        if i in res_gold:\n",
        "            # với mỗi relevant document retrive được thì tăng precision thêm 1\n",
        "            precision += 1\n",
        "            # tính precision, recall và thêm vào precision_list, recall_list\n",
        "            precision_list.append(float(precision)/(idx+1))\n",
        "            recall_list.append(float(precision)/len(res_gold))\n",
        "\n",
        "    temp = 0\n",
        "    # tính AP nội suy\n",
        "    for i in range(len(precision_list)-1, -1, -1):\n",
        "        if temp >= precision_list[i]:\n",
        "            precision_list[i] = temp\n",
        "        elif temp < precision_list[i]:\n",
        "            temp = precision_list[i]\n",
        "\n",
        "    # tính MAP 11 điểm\n",
        "    # chỉ tính tại cái vị trí có recall nằm trong list points\n",
        "    precision_list_11 = []\n",
        "    points = [0.0, 0.1, 0.2, 0.3, 0.4, 0.5, 0.6, 0.7, 0.8, 0.9, 1.0]\n",
        "    for idx, i in enumerate(points):\n",
        "        for j in range(len(recall_list)):\n",
        "            if recall_list[j] >= i:\n",
        "                precision_list_11.append(max(precision_list[j:]))\n",
        "                break\n",
        "\n",
        "    if len(precision_list_11) < 11:\n",
        "        precision_list_11 += [0]*(11-len(precision_list_11))\n",
        "\n",
        "    average_precision = sum(precision_list_11)/len(precision_list_11)\n",
        "    return average_precision\n",
        "\n",
        "\n",
        "def calculate_MAP(input_query_path,input_query_res_file, D, Ut, Z, terms_inx_dict):\n",
        "\n",
        "    AP_list = []\n",
        "    res_gold_list = {}\n",
        "\n",
        "    for res_file in os.listdir(input_query_res_file):\n",
        "        filename = os.path.join(input_query_res_file, res_file)\n",
        "        # tách kết quả truy xuất từ file có sẵn\n",
        "        res_gold_list[res_file] = get_text_from_file(filename=filename).split()\n",
        "\n",
        "    res_only_list = {}\n",
        "    for query_file in os.listdir(input_query_path):\n",
        "        filename = os.path.join(input_query_path, query_file)\n",
        "        qry = searchBoolean(index, get_text_from_file(filename=filename))\n",
        "        # truy xuất kết quả theo query\n",
        "        res = reranking(D, terms, qry, Ut, Z, terms_inx_dict)\n",
        "        for idx, i in enumerate(res):\n",
        "            # tách số thứ tự từ tên file\n",
        "            res[idx] = dic[res[idx]][:-4]\n",
        "        # kết quả trả về của từng query\n",
        "        res_only_list[query_file] = res\n",
        "\n",
        "    # tính AP cho mỗi query\n",
        "    for idx, i in enumerate(res_only_list):\n",
        "        try:\n",
        "            AP_list.append(calculate_AP(res_only_list[i],res_gold_list[i]))\n",
        "        except:pass\n",
        "\n",
        "    return sum(AP_list)/len(AP_list)  # trả về MAP"
      ],
      "metadata": {
        "id": "OzxLz3yt0w58"
      },
      "execution_count": null,
      "outputs": []
    },
    {
      "cell_type": "code",
      "source": [
        "CORPUS = r'./NF_docs'\n",
        "dic, files = tokenizeFile(CORPUS)\n",
        "index = indexBoolean(CORPUS, dic)\n",
        "input_query_path_corpus = r'./NF_queries'\n",
        "input_query_res_file_corpus = r'./NF_qrel'\n",
        "terms = selectTerms(files, len(terms))"
      ],
      "metadata": {
        "id": "33L4o2Vu0y92"
      },
      "execution_count": null,
      "outputs": []
    },
    {
      "cell_type": "code",
      "source": [
        "terms_inx_dict = {term : 0 for term in terms}\n",
        "for i in range(len(terms)):\n",
        "  terms_inx_dict[terms[i]] = i\n",
        "\n",
        "A = toMatrix(files, terms)\n",
        "S_full, Sig, Ut_full = svd(A)"
      ],
      "metadata": {
        "id": "NrRk95v41MJt"
      },
      "execution_count": null,
      "outputs": []
    },
    {
      "cell_type": "code",
      "source": [
        "import warnings\n",
        "warnings.filterwarnings(\"ignore\")"
      ],
      "metadata": {
        "id": "R684RFFcJKUf"
      },
      "execution_count": null,
      "outputs": []
    },
    {
      "cell_type": "markdown",
      "source": [
        "# Result"
      ],
      "metadata": {
        "id": "lSfZlEtcbA-Z"
      }
    },
    {
      "cell_type": "code",
      "source": [
        "k = []\n",
        "map = []\n",
        "pre_recall = []\n",
        "running_time = []\n",
        "\n",
        "for var in range(100,500,10):\n",
        "  k.append(var)\n",
        "  D, Z, S = lsi(S_full, Sig, Ut_full, var)\n",
        "  start_time = time.time()\n",
        "  temp = calculate_MAP(input_query_path_corpus,input_query_res_file_corpus,D, S, Z, terms_inx_dict)\n",
        "  map.append(temp)\n",
        "  print(var)\n",
        "  end = time.time() - start_time\n",
        "  running_time.append(end)\n",
        "  print(\"--- %s seconds ---\" % (end))\n",
        "  print(temp)"
      ],
      "metadata": {
        "colab": {
          "base_uri": "https://localhost:8080/"
        },
        "id": "sxH-SAEiDLNq",
        "outputId": "44c3224f-8afa-42eb-df33-b10ff4e691c8"
      },
      "execution_count": null,
      "outputs": [
        {
          "output_type": "stream",
          "name": "stdout",
          "text": [
            "100\n",
            "--- 82.461923122406 seconds ---\n",
            "0.07164033388524332\n",
            "110\n",
            "--- 82.8310387134552 seconds ---\n",
            "0.07487237765388707\n",
            "120\n",
            "--- 87.14598727226257 seconds ---\n",
            "0.07777921932520879\n",
            "130\n",
            "--- 90.3308675289154 seconds ---\n",
            "0.08059694211591789\n",
            "140\n",
            "--- 92.70377111434937 seconds ---\n",
            "0.08752862783564178\n",
            "150\n",
            "--- 94.5323097705841 seconds ---\n",
            "0.08925893423064614\n",
            "160\n",
            "--- 95.76804423332214 seconds ---\n",
            "0.09196087102529871\n",
            "170\n",
            "--- 100.27920174598694 seconds ---\n",
            "0.09439917956765283\n",
            "180\n",
            "--- 102.0745701789856 seconds ---\n",
            "0.09731812554862018\n",
            "190\n",
            "--- 103.72264456748962 seconds ---\n",
            "0.09966569989840851\n",
            "200\n",
            "--- 105.79092526435852 seconds ---\n",
            "0.10025468128076799\n",
            "210\n",
            "--- 111.37705779075623 seconds ---\n",
            "0.10226002647065449\n",
            "220\n",
            "--- 112.54258942604065 seconds ---\n",
            "0.10380575468478778\n",
            "230\n",
            "--- 113.40499639511108 seconds ---\n",
            "0.10488504678112508\n",
            "240\n",
            "--- 110.69346904754639 seconds ---\n",
            "0.10665759622611921\n",
            "250\n",
            "--- 114.94459104537964 seconds ---\n",
            "0.10816159889792255\n",
            "260\n",
            "--- 112.58234190940857 seconds ---\n",
            "0.110256413282766\n",
            "270\n",
            "--- 115.02481484413147 seconds ---\n",
            "0.11113423623582674\n",
            "280\n",
            "--- 122.21147918701172 seconds ---\n",
            "0.11273058968762661\n",
            "290\n",
            "--- 121.1198000907898 seconds ---\n",
            "0.1131228203315479\n",
            "300\n",
            "--- 126.7870147228241 seconds ---\n",
            "0.11393421491020217\n",
            "310\n",
            "--- 128.85337090492249 seconds ---\n",
            "0.1146020759750987\n",
            "320\n",
            "--- 133.0640299320221 seconds ---\n",
            "0.1157902096881351\n",
            "330\n",
            "--- 133.92713737487793 seconds ---\n",
            "0.11652014657358989\n",
            "340\n",
            "--- 141.87694382667542 seconds ---\n",
            "0.11863764864899932\n",
            "350\n",
            "--- 142.8571174144745 seconds ---\n",
            "0.1194604701359025\n",
            "360\n",
            "--- 146.71879529953003 seconds ---\n",
            "0.12013126158512909\n",
            "370\n",
            "--- 152.1785593032837 seconds ---\n",
            "0.12120291992589065\n",
            "380\n",
            "--- 155.9635238647461 seconds ---\n",
            "0.1208570223651179\n",
            "390\n",
            "--- 159.34855556488037 seconds ---\n",
            "0.12134330349260042\n",
            "400\n",
            "--- 158.32866024971008 seconds ---\n",
            "0.12262869804496312\n",
            "410\n",
            "--- 168.15580439567566 seconds ---\n",
            "0.1238004544542348\n",
            "420\n",
            "--- 168.9686930179596 seconds ---\n",
            "0.12534293918588812\n",
            "430\n",
            "--- 173.64048027992249 seconds ---\n",
            "0.12759549027016828\n",
            "440\n",
            "--- 180.5217800140381 seconds ---\n",
            "0.12825692310318762\n",
            "450\n",
            "--- 189.38340067863464 seconds ---\n",
            "0.12960685111876702\n",
            "460\n",
            "--- 193.38803839683533 seconds ---\n",
            "0.12931961502730488\n",
            "470\n",
            "--- 193.49739408493042 seconds ---\n",
            "0.13020037244660013\n",
            "480\n",
            "--- 192.89160060882568 seconds ---\n",
            "0.13061357058220896\n",
            "490\n",
            "--- 200.46449828147888 seconds ---\n",
            "0.13191966891594942\n"
          ]
        }
      ]
    },
    {
      "cell_type": "code",
      "source": [
        "# Adding a Y-Axis Label to the Secondary Y-Axis in Matplotlib\n",
        "# importing the libraries\n",
        "import numpy as np\n",
        "import matplotlib.pyplot as plt\n",
        "\n",
        "# creating data for plot\n",
        "# data arrangement between 0 and 50\n",
        "# with the difference of 2\n",
        "# x-axis\n",
        "x = k\n",
        "\n",
        "# y-axis values\n",
        "y1 = map\n",
        "\n",
        "# secondary y-axis values\n",
        "y2 = running_time\n",
        "\n",
        "# plotting figures by creating axes object\n",
        "# using subplots() function\n",
        "fig, ax = plt.subplots(figsize = (10, 5))\n",
        "plt.title('Kết quả truy vấn theo số chiều được giữ lại')\n",
        "\n",
        "# using the twinx() for creating another\n",
        "# axes object for secondary y-Axis\n",
        "ax2 = ax.twinx()\n",
        "ax.plot(x, y1, color = 'b')\n",
        "ax2.plot(x, y2, color = 'g')\n",
        "\n",
        "# giving labels to the axises\n",
        "ax.set_xlabel('Số chiều được giữ lại', color = 'r')\n",
        "ax.set_ylabel('mAP', color = 'b')\n",
        "\n",
        "# secondary y-axis label\n",
        "ax2.set_ylabel('Thời gian truy xuất', color = 'g')\n",
        "\n",
        "# defining display layout\n",
        "plt.tight_layout()\n",
        "\n",
        "# show plot\n",
        "plt.show()"
      ],
      "metadata": {
        "colab": {
          "base_uri": "https://localhost:8080/",
          "height": 507
        },
        "id": "bKI8pHuVDVo6",
        "outputId": "40c2f06e-ccc5-426c-86a3-405cd1b12667"
      },
      "execution_count": null,
      "outputs": [
        {
          "output_type": "display_data",
          "data": {
            "text/plain": [
              "<Figure size 1000x500 with 2 Axes>"
            ],
            "image/png": "[encoded data removed]"
          },
          "metadata": {}
        }
      ]
    }
  ]
}